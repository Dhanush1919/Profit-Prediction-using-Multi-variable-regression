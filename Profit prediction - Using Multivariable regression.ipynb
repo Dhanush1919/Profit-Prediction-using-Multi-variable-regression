{
 "cells": [
  {
   "cell_type": "markdown",
   "metadata": {},
   "source": [
    "# Imports"
   ]
  },
  {
   "cell_type": "code",
   "execution_count": 108,
   "metadata": {},
   "outputs": [],
   "source": [
    "import pandas as pd\n",
    "import numpy as np \n",
    "\n",
    "from sklearn.linear_model import LinearRegression\n",
    "from sklearn.model_selection import train_test_split\n",
    "\n",
    "import statsmodels.api as sm"
   ]
  },
  {
   "cell_type": "markdown",
   "metadata": {},
   "source": [
    "# Constants"
   ]
  },
  {
   "cell_type": "code",
   "execution_count": 109,
   "metadata": {},
   "outputs": [],
   "source": [
    "Source_path = 'D:/Danush/Datasets/1000_Companies.csv'\n",
    "RD = 0\n",
    "AD = 1\n",
    "MK = 2"
   ]
  },
  {
   "cell_type": "markdown",
   "metadata": {},
   "source": [
    "# Gathering the data"
   ]
  },
  {
   "cell_type": "code",
   "execution_count": 110,
   "metadata": {},
   "outputs": [],
   "source": [
    "data = pd.read_csv(Source_path)"
   ]
  },
  {
   "cell_type": "code",
   "execution_count": 111,
   "metadata": {},
   "outputs": [],
   "source": [
    "columns=['R&D Spend','Administration','Marketing Spend','State','Profit']"
   ]
  },
  {
   "cell_type": "code",
   "execution_count": 112,
   "metadata": {},
   "outputs": [],
   "source": [
    "datas = pd.DataFrame(data=data,columns=columns)"
   ]
  },
  {
   "cell_type": "code",
   "execution_count": 113,
   "metadata": {},
   "outputs": [],
   "source": [
    "Label = datas['Profit']\n",
    "datas.drop('Profit',inplace=True,axis=1)"
   ]
  },
  {
   "cell_type": "code",
   "execution_count": 114,
   "metadata": {},
   "outputs": [],
   "source": [
    "datas.drop('State',inplace=True,axis=1)"
   ]
  },
  {
   "cell_type": "code",
   "execution_count": 115,
   "metadata": {},
   "outputs": [
    {
     "data": {
      "text/html": [
       "<div>\n",
       "<style scoped>\n",
       "    .dataframe tbody tr th:only-of-type {\n",
       "        vertical-align: middle;\n",
       "    }\n",
       "\n",
       "    .dataframe tbody tr th {\n",
       "        vertical-align: top;\n",
       "    }\n",
       "\n",
       "    .dataframe thead th {\n",
       "        text-align: right;\n",
       "    }\n",
       "</style>\n",
       "<table border=\"1\" class=\"dataframe\">\n",
       "  <thead>\n",
       "    <tr style=\"text-align: right;\">\n",
       "      <th></th>\n",
       "      <th>R&amp;D Spend</th>\n",
       "      <th>Administration</th>\n",
       "      <th>Marketing Spend</th>\n",
       "    </tr>\n",
       "  </thead>\n",
       "  <tbody>\n",
       "    <tr>\n",
       "      <th>R&amp;D Spend</th>\n",
       "      <td>1.000000</td>\n",
       "      <td>0.582434</td>\n",
       "      <td>0.978407</td>\n",
       "    </tr>\n",
       "    <tr>\n",
       "      <th>Administration</th>\n",
       "      <td>0.582434</td>\n",
       "      <td>1.000000</td>\n",
       "      <td>0.520465</td>\n",
       "    </tr>\n",
       "    <tr>\n",
       "      <th>Marketing Spend</th>\n",
       "      <td>0.978407</td>\n",
       "      <td>0.520465</td>\n",
       "      <td>1.000000</td>\n",
       "    </tr>\n",
       "  </tbody>\n",
       "</table>\n",
       "</div>"
      ],
      "text/plain": [
       "                 R&D Spend  Administration  Marketing Spend\n",
       "R&D Spend         1.000000        0.582434         0.978407\n",
       "Administration    0.582434        1.000000         0.520465\n",
       "Marketing Spend   0.978407        0.520465         1.000000"
      ]
     },
     "execution_count": 115,
     "metadata": {},
     "output_type": "execute_result"
    }
   ],
   "source": [
    "datas.corr()"
   ]
  },
  {
   "cell_type": "markdown",
   "metadata": {},
   "source": [
    "# Training and Testing"
   ]
  },
  {
   "cell_type": "code",
   "execution_count": 116,
   "metadata": {},
   "outputs": [],
   "source": [
    "X_train,X_test,Y_train,Y_test = train_test_split(datas,Label,test_size=0.3,random_state=10)"
   ]
  },
  {
   "cell_type": "code",
   "execution_count": 117,
   "metadata": {},
   "outputs": [
    {
     "data": {
      "text/plain": [
       "array([ 95005.05063687,  77072.10099319,  76839.31798513,  88729.42691382,\n",
       "       163212.21904708,  50372.14324651, 116100.04227376,  96576.55260345,\n",
       "        95395.09474398, 129866.26152676, 154325.79047393, 175382.70609627,\n",
       "       182640.51861816, 147299.0303215 , 172488.92709488,  79827.42169355,\n",
       "       151174.99822726,  87057.54255524, 106520.45662243, 172162.68463626,\n",
       "       155280.28761258, 147537.00562233, 113053.95898295,  53711.58504699,\n",
       "        72385.28664811, 119976.32607724, 183165.79486533,  69770.15489743,\n",
       "       143044.89827075, 162256.8566419 ,  94250.4526689 , 107772.63917736,\n",
       "       183094.83501339, 127605.06389491, 154945.39156385,  96755.68306542,\n",
       "       161457.25970788,  99317.16214435, 172620.46245447,  94913.32195056,\n",
       "        92832.12016281, 157223.89638596,  56591.51827004,  73719.67881158,\n",
       "       166382.91474598,  64316.62758136,  97571.72190304, 104216.8562865 ,\n",
       "       143622.961702  ,  59286.26347282, 133201.47399802,  58805.12068191,\n",
       "       146476.06864798, 163252.89120802,  82367.26668165, 179873.08278913,\n",
       "        79852.51732296,  58700.41160744, 179574.53199071, 123255.52643981,\n",
       "       181833.9988583 , 149613.8805095 ,  82964.36828854, 159998.25514637,\n",
       "       172713.92178944, 164502.47761657, 181571.79331019,  97416.82157276,\n",
       "       170652.6234338 , 150441.16909366, 150499.14843481,  92391.64965045,\n",
       "       160781.41004108,  75924.6276253 , 143410.94740265, 118575.85023575,\n",
       "       106605.26235724,  94020.26569164,  87148.40585942,  97686.8153389 ,\n",
       "       184058.85113432,  92667.7009759 , 152448.8147675 , 176893.63255521,\n",
       "       170529.74168443, 151133.46068419,  51999.02852647, 158341.08206285,\n",
       "       159328.46292328, 102779.4857103 , 100566.74856296, 170306.4776486 ,\n",
       "        57980.08149083, 106487.57278505,  77381.90153815, 110364.40595735,\n",
       "       214800.87181075,  64515.66136991,  72810.18062893, 142068.76703121,\n",
       "       141365.22558861, 131090.75231595,  56232.39197001,  70529.07966044,\n",
       "       182315.14154167, 101373.26831275, 143428.25469844,  95483.59716379,\n",
       "       158071.95367884,  78130.44183121, 126205.76944886, 151367.97445651,\n",
       "        60444.98658322,  98350.55000269, 120612.91833405, 136285.53572801,\n",
       "        78900.61633071, 174487.91918868, 169032.66098271,  72356.69334083,\n",
       "       143141.81901864,  90596.0182659 , 173560.24831806, 151817.09867456,\n",
       "        73994.86462925, 172584.11719411,  94340.45059095, 183271.36932897,\n",
       "        52884.29646183,  80559.52017849, 177838.61072162, 123255.74175499,\n",
       "       138712.01793896,  87561.18471157, 105658.55354216, 150316.55656998,\n",
       "       126004.13951392, 103866.3835806 , 160162.67433329, 116190.90546235,\n",
       "       138519.04158406,  74175.72585547, 181300.93428757, 113758.36580768,\n",
       "       136520.91488245, 158704.5351539 , 126399.61106023,  98484.6814986 ,\n",
       "       172408.44815512, 116487.72549651, 170470.03156897, 121527.60869388,\n",
       "       171258.37864085, 110008.74118986, 175296.16970273, 116474.74511136,\n",
       "       144864.75990258,  93527.00789972, 126459.32129128, 164156.45219868,\n",
       "       171806.15437105, 165537.45358944,  65374.96840933,  62834.25803911,\n",
       "       170579.9328176 ,  58253.88353477, 139091.91295373, 168268.54415811,\n",
       "       165623.12471644, 162267.24099626, 141948.48131263, 140762.93192013,\n",
       "       141405.89775961, 140502.73921786,  49473.89480639, 158278.77580101,\n",
       "       163959.89406355, 155249.99980599,  84615.48381276, 161802.54023661,\n",
       "       127814.48216347, 152923.8998815 , 181300.93428757, 168818.05066262,\n",
       "        73396.03237369,  89788.63313397, 129764.19340909, 141811.75377586,\n",
       "       173886.49078674, 103289.18542594, 140776.77769746, 110824.77991189,\n",
       "       185057.48173123, 174969.92724411,  79976.26446452,  55573.84948542,\n",
       "        94307.56675357,  59116.65198911,  97206.53804773,  70131.01195769,\n",
       "       182450.13841971,  89452.00631094, 137053.11408112,  90362.36976012,\n",
       "       106099.88943665,  52622.95640842, 116419.36179095, 140071.50559613,\n",
       "       105532.21036981, 133066.03700029,  73877.17505706, 104289.5469027 ,\n",
       "       132496.96970344, 177006.99534241, 174859.16060329, 130825.08547051,\n",
       "        98764.19423697, 159943.73721815, 164715.35729804, 177832.55316232,\n",
       "        59898.94149867,  83233.49667255,  46603.17825453,  50648.19445335,\n",
       "       125602.61039825, 128428.02556843, 136790.04326647, 157677.34739906,\n",
       "        86948.50668874, 183386.46287037, 145390.03614975, 180556.72078955,\n",
       "        97932.57885776, 138576.15566873,  58389.74579795,  76723.35905154,\n",
       "       121764.71862264, 143487.09954736,  73537.0868211 , 108893.28627723,\n",
       "       109015.30264447, 134056.356667  , 156683.0435972 , 126640.18240191,\n",
       "       172921.60928368, 175389.6290377 , 144612.93882441, 130463.36301806,\n",
       "       117268.28436042,  74149.76495953, 152949.86089304, 166846.75022903,\n",
       "        56061.91510418, 126853.06207333, 115958.98783641,  90040.45421214,\n",
       "       162223.10741233,  94223.62640089, 150947.40728079, 121010.9860368 ,\n",
       "       115001.89465692,  96168.96592847, 162288.87509715, 138211.83719555,\n",
       "       100600.49778247,  87498.0130676 , 185732.4661315 , 159278.27179011,\n",
       "       142840.67218943, 145830.50666211,  87647.98551001, 100444.73218565,\n",
       "       132073.80649693,  14936.99344657,  86466.4986333 , 139242.48636331,\n",
       "        64217.97595363, 169766.49012637,  99194.28038492,  52122.77566702,\n",
       "       102810.63889902,  76073.47028068,  54650.50553449,  79811.84516202,\n",
       "        50628.29112073, 165263.13302824, 170477.81977694, 110534.01743703,\n",
       "       106958.33109394,  70866.5718656 , 182545.32851894, 125019.35467423,\n",
       "       141123.78887485,  51048.85829847,  55792.50584911,  95119.27869061,\n",
       "       141499.35708452,  91876.75775763,  85798.43717447, 169580.43683856])"
      ]
     },
     "execution_count": 117,
     "metadata": {},
     "output_type": "execute_result"
    }
   ],
   "source": [
    "regr = LinearRegression()\n",
    "regr.fit(X_train,Y_train)\n",
    "regr.predict(X_test)"
   ]
  },
  {
   "cell_type": "markdown",
   "metadata": {},
   "source": [
    "# Evaluation"
   ]
  },
  {
   "cell_type": "code",
   "execution_count": 118,
   "metadata": {},
   "outputs": [],
   "source": [
    "Accuracy = regr.score(X_test,Y_test)\n",
    "Coeff = regr.coef_\n",
    "Intercept = regr.intercept_"
   ]
  },
  {
   "cell_type": "code",
   "execution_count": 119,
   "metadata": {},
   "outputs": [],
   "source": [
    "Stats_X = sm.add_constant(X_train)\n",
    "model = sm.OLS(Y_train,Stats_X)\n",
    "results = model.fit()"
   ]
  },
  {
   "cell_type": "code",
   "execution_count": 120,
   "metadata": {},
   "outputs": [
    {
     "data": {
      "text/html": [
       "<div>\n",
       "<style scoped>\n",
       "    .dataframe tbody tr th:only-of-type {\n",
       "        vertical-align: middle;\n",
       "    }\n",
       "\n",
       "    .dataframe tbody tr th {\n",
       "        vertical-align: top;\n",
       "    }\n",
       "\n",
       "    .dataframe thead th {\n",
       "        text-align: right;\n",
       "    }\n",
       "</style>\n",
       "<table border=\"1\" class=\"dataframe\">\n",
       "  <thead>\n",
       "    <tr style=\"text-align: right;\">\n",
       "      <th></th>\n",
       "      <th>Pvalues</th>\n",
       "    </tr>\n",
       "  </thead>\n",
       "  <tbody>\n",
       "    <tr>\n",
       "      <th>R&amp;D Spend</th>\n",
       "      <td>2.617811e-25</td>\n",
       "    </tr>\n",
       "    <tr>\n",
       "      <th>Administration</th>\n",
       "      <td>5.223176e-137</td>\n",
       "    </tr>\n",
       "    <tr>\n",
       "      <th>Marketing Spend</th>\n",
       "      <td>9.020117e-06</td>\n",
       "    </tr>\n",
       "    <tr>\n",
       "      <th>State</th>\n",
       "      <td>NaN</td>\n",
       "    </tr>\n",
       "    <tr>\n",
       "      <th>Profit</th>\n",
       "      <td>NaN</td>\n",
       "    </tr>\n",
       "  </tbody>\n",
       "</table>\n",
       "</div>"
      ],
      "text/plain": [
       "                       Pvalues\n",
       "R&D Spend         2.617811e-25\n",
       "Administration   5.223176e-137\n",
       "Marketing Spend   9.020117e-06\n",
       "State                      NaN\n",
       "Profit                     NaN"
      ]
     },
     "execution_count": 120,
     "metadata": {},
     "output_type": "execute_result"
    }
   ],
   "source": [
    "pd.DataFrame(data=results.pvalues,index=columns,columns=['Pvalues'])"
   ]
  },
  {
   "cell_type": "markdown",
   "metadata": {},
   "source": [
    "# Generating the User Inputs :"
   ]
  },
  {
   "cell_type": "code",
   "execution_count": 121,
   "metadata": {},
   "outputs": [
    {
     "name": "stdout",
     "output_type": "stream",
     "text": [
      "[[ 81668.9272     122963.8976117  226205.05841883]]\n"
     ]
    }
   ],
   "source": [
    "Mean = datas.mean().values.reshape(1,3)\n",
    "print(Mean)"
   ]
  },
  {
   "cell_type": "code",
   "execution_count": 140,
   "metadata": {},
   "outputs": [],
   "source": [
    "def User_inputs(R_and_D,Admin,Marketing):\n",
    "    \n",
    "    Mean[0][RD]=R_and_D \n",
    "    Mean[0][AD]=Admin\n",
    "    Mean[0][MK]=Marketing\n",
    "    \n",
    "    Prediction = regr.predict(Mean)[0]\n",
    "    \n",
    "    print(\"The profit is estimated to be:\",round(Prediction,2))"
   ]
  },
  {
   "cell_type": "code",
   "execution_count": 141,
   "metadata": {},
   "outputs": [
    {
     "name": "stdout",
     "output_type": "stream",
     "text": [
      "Enter the amount spent in R&D:211543\n",
      "Enter the amount spent in Administration:14522\n",
      "Enter the amount spent in Marketing:14522\n",
      "The profit is estimated to be: 37912.4\n",
      "The accuracy of the model:96.51 %\n"
     ]
    }
   ],
   "source": [
    "R_and_D = int(input('Enter the amount spent in R&D:'))\n",
    "Admin = int(input('Enter the amount spent in Administration:'))\n",
    "Marketing = int(input('Enter the amount spent in Marketing:'))\n",
    "User_inputs(R_and_D,Admin,Marketing)\n",
    "print(f'The accuracy of the model:{round(Accuracy*100,2)} %')"
   ]
  }
 ],
 "metadata": {
  "kernelspec": {
   "display_name": "Python 3",
   "language": "python",
   "name": "python3"
  },
  "language_info": {
   "codemirror_mode": {
    "name": "ipython",
    "version": 3
   },
   "file_extension": ".py",
   "mimetype": "text/x-python",
   "name": "python",
   "nbconvert_exporter": "python",
   "pygments_lexer": "ipython3",
   "version": "3.8.3"
  }
 },
 "nbformat": 4,
 "nbformat_minor": 4
}
